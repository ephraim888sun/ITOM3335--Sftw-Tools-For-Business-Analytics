{
 "cells": [
  {
   "cell_type": "markdown",
   "id": "25e1666b",
   "metadata": {},
   "source": [
    "# More Strings and the 'if' statement"
   ]
  },
  {
   "cell_type": "markdown",
   "id": "9be3e6bc-b0e2-4441-86bb-d62798653ce4",
   "metadata": {},
   "source": [
    "We're going to start by running the below cell to just to get us to where we were in the last notebook\n",
    "(mod: 2-Sep-2024)"
   ]
  },
  {
   "cell_type": "code",
   "execution_count": null,
   "id": "ce0eb252",
   "metadata": {},
   "outputs": [],
   "source": [
    "# Run me\n",
    "w = 'Hello'\n",
    "x = 'Dave'\n",
    "y = 5\n",
    "z = 3.1415"
   ]
  },
  {
   "cell_type": "markdown",
   "id": "fb412c6c",
   "metadata": {},
   "source": [
    "## f-Strings\n",
    "We did this print() statement in an earlier notebook\n",
    "```python\n",
    "print(w, x, 'the value of pi is:', z)\n",
    "```\n",
    "If we simply want to print out a list of values, that certainly works. However, if we want to print _formatted_ data, it would be nice to have an easy-to-use way to do this. __Python 3__ introduced a new way of formatting strings. Though you will occasionally run into older \"Python 2\" ways of doing it, _f-Strings_ are the way to go.\n",
    "\n",
    "First, let's assign the following variables by copying this code into a cell and running it to \"seed\" our variables:\n",
    "YOU ARE FINED 1 CREDIT FOR A VIOLATION OF THE VERBAL MORALITY STATUTE\n",
    "```python\n",
    "firstName = 'John'\n",
    "lastName = 'Spartan'\n",
    "credits = 3\n",
    "violation = 'the verbal morality statute'\n",
    "```\n"
   ]
  },
  {
   "cell_type": "code",
   "execution_count": null,
   "id": "859c59e8",
   "metadata": {},
   "outputs": [],
   "source": []
  },
  {
   "cell_type": "markdown",
   "id": "aec428b7",
   "metadata": {},
   "source": [
    "Our goal is to make Python print (exactly):\n",
    "\n",
    "    John Spartan, you are fined 3 credits for \n",
    "    a violation of the verbal morality statute.\n",
    "    \n",
    "So let's start with the obvious:\n",
    "```python\n",
    "print(firstName, lastName, \", you are fined\", credits, \"credits for\\na violation of\", violation, \".\")\n",
    "```"
   ]
  },
  {
   "cell_type": "code",
   "execution_count": null,
   "id": "d1a0becc",
   "metadata": {},
   "outputs": [],
   "source": []
  },
  {
   "cell_type": "markdown",
   "id": "9fda7cdf",
   "metadata": {},
   "source": [
    "Well that sort of works except for the comma and the period being in the wrong place because the comma we use, to separate everything, automatically inserts a space. But we can change that by redoing our __print()__ statement as follows to strategically concatenate certain strings:\n",
    "```python\n",
    "print(firstName, lastName + \", you are fined\", credits, \"credits for\\na violation of\", violation + \".\")\n",
    "```\n",
    "But then we decide we want to change the output to look like:\n",
    "\n",
    "    Name:John Spartan\n",
    "    Credits:3\n",
    "    Violation:the verbal morality statute\n",
    "\n",
    "So we remember how our plusses and commas work and we try this:\n",
    "```python\n",
    "print(\"Name:\" + firstName, lastName + \"\\nCredits:\" + credits + \"\\nViolation:\" + violation)\n",
    "```\n",
    "\n",
    "But when we run this one, what happens?"
   ]
  },
  {
   "cell_type": "code",
   "execution_count": null,
   "id": "5c26e06c",
   "metadata": {},
   "outputs": [],
   "source": []
  },
  {
   "cell_type": "markdown",
   "id": "028f052c",
   "metadata": {},
   "source": [
    "We look up a few cells and see that the variable _credits_ is a type _int_. The \"+\" we're using is trying to concatenate it as a string--but when we use a math operator on an int, it wants to perform calculations on that value. So we're effectively trying to do something like adding _\"Credits:\" + 3_. Hence the error.\n",
    "\n",
    "Well, we can go back and change some plusses \"+\" to commas \",\" and rerun it, but now we have a space we don't want! I know. Nit-picky eh!\n",
    "\n",
    "One thing we can do is called \"type casting.\" This is where we can add a function to tell Python to treat an __int__ as a __str__ and then we can concatenate it like any other string using \"+\". We do that by using __str(credits)__ instead of just specifying _credits_ as follows: \n",
    "\n",
    "```python\n",
    "print(\"Name:\" + firstName, lastName + \"\\nCredits:\" + str(credits) + \"\\nViolation:\" + violation)\n",
    "```\n",
    "\n",
    "Go ahead and alter the __print()__ statement above and see if you can get the output to look the way you want it to look.\n",
    "\n",
    "\"There must be an easier way,\" you say. In fact there is. This is where f-Strings come into play. Again, these _only_ work in Python 3 (in case you find yourself somewhere using Python 2 in which case many things in this course won't work).\n",
    "\n",
    "Try this out:\n",
    "\n",
    "```python\n",
    "print(f\"Name:{firstName} {lastName}\\nCredits:{credits}\\nViolation:{violation}\")\n",
    "```\n"
   ]
  },
  {
   "cell_type": "code",
   "execution_count": null,
   "id": "8bdd951b",
   "metadata": {},
   "outputs": [],
   "source": []
  },
  {
   "cell_type": "markdown",
   "id": "5a65603f",
   "metadata": {},
   "source": [
    "Cool eh! All we need to do is prepend a string with __f\"__ and then put variables inside {braces} inline and Python 3 takes care of the rest! We can also do something like the following in the context of a Jupyter Notebook:\n",
    "\n",
    "```python\n",
    "combinedString = f\"Name:{firstName} {lastName}\\nCredits:{credits}\\nViolation:{violation}\"\n",
    "combinedString\n",
    "```\n",
    "\n",
    "When we run it, we see that it creates a string with all the pieces in place. If we then just wrap _combinedString_ in a __print()__ statement, it should print the formatted string correctly. Go ahead and try it."
   ]
  },
  {
   "cell_type": "code",
   "execution_count": null,
   "id": "7ca0030e-44f4-43ac-8c20-076183e75449",
   "metadata": {},
   "outputs": [],
   "source": []
  },
  {
   "cell_type": "markdown",
   "id": "baadb647-9dc6-4130-9448-141c35500240",
   "metadata": {},
   "source": [
    "We can also _format_ the floats in our __f\"__ strings. So let's begin by making a big float:\n",
    "```python\n",
    "big_float = 123456789.123456789\n",
    "```\n",
    "Then let's print it in a __print()__ statement:\n",
    "```python\n",
    "print(f\"Here is our big float: {big_float}\")\n",
    "```"
   ]
  },
  {
   "cell_type": "code",
   "execution_count": null,
   "id": "ada647bc-958b-4cc2-9c7d-1c5a5a7d91c0",
   "metadata": {},
   "outputs": [],
   "source": []
  },
  {
   "cell_type": "markdown",
   "id": "7ae0080a-4239-4d2c-806f-80d15c00a403",
   "metadata": {},
   "source": [
    "We can format our string by adding a colon and special formatting instructions. For instance, try the following:\n",
    "```python\n",
    "print(f\"Here is our big float: {big_float:,} with commas in the thousands\")\n",
    "```\n",
    "If we want to round it with commas, we can:\n",
    "```python\n",
    "print(f\"Here is our big float: {big_float:,.2f} rounded to 2 places with commas\")\n",
    "```\n",
    "We can also right align a bunch of floats by specifying how wide the number fields should be:\n",
    "```python\n",
    "print(f\"{big_float:15.3f}\\n{z:15.3f}\")\n",
    "```\n",
    "There are many other formats and alignments that can be specified using the \":....\" notation (percentages, scientific notation, left-right justification and more. If you don't want to _AskCodi_ you can check out <a href=\"https://realpython.com/how-to-python-f-string-format-float/\">this link</a>"
   ]
  },
  {
   "cell_type": "code",
   "execution_count": null,
   "id": "328259ab-adfa-4b6c-9375-229f2e0abf97",
   "metadata": {},
   "outputs": [],
   "source": []
  },
  {
   "cell_type": "markdown",
   "id": "087176fd",
   "metadata": {},
   "source": [
    "# Getting User Input\n",
    "\n",
    "Up to this point, we have coded strings individually in our cells. Occasionally we might want to interactively get a string value on the fly instead of coding them as we have been doing. We can use the __input()__ function to do this. Before we start, let's do a _%whos_ magic to show our variables in the following cell."
   ]
  },
  {
   "cell_type": "code",
   "execution_count": null,
   "id": "81eef8f6",
   "metadata": {},
   "outputs": [],
   "source": []
  },
  {
   "cell_type": "markdown",
   "id": "b76c48c7",
   "metadata": {},
   "source": [
    "The __input()__ function is super simple to implement. Let's enter the following in a cell and run it to alter our first, last names, the credits and the violation as follows:\n",
    "\n",
    "```python\n",
    "firstName = input(\"Enter the first name: \")\n",
    "lastName = input(\"Enter the last name: \")\n",
    "credits = input(\"Input the credits: \")\n",
    "violation = input(\"What statute was violated? \")\n",
    "```\n",
    "Go ahead and enter your name, make up a number for the credits and come up with some creative violation."
   ]
  },
  {
   "cell_type": "code",
   "execution_count": null,
   "id": "6ea13f32",
   "metadata": {},
   "outputs": [],
   "source": []
  },
  {
   "cell_type": "markdown",
   "id": "112a8497",
   "metadata": {},
   "source": [
    "Go ahead and do another _%whos_ magic in the cell below to display our new values (don't just re-run the one above because we're going to need to refer back to it)."
   ]
  },
  {
   "cell_type": "code",
   "execution_count": null,
   "id": "9ec8a89b",
   "metadata": {},
   "outputs": [],
   "source": []
  },
  {
   "cell_type": "markdown",
   "id": "baad1bbc",
   "metadata": {},
   "source": [
    "Next, we've decided to add a 5-credit surcharge to our number of credits. We can do that by executing the following code:\n",
    "\n",
    "```python\n",
    "credits = credits + 5\n",
    "```\n",
    "\n",
    "Basically what we're doing is adding 5 to _credits_ and (re)assigning it back to the credits variable. Go ahead and try it."
   ]
  },
  {
   "cell_type": "code",
   "execution_count": null,
   "id": "db92da37",
   "metadata": {},
   "outputs": [],
   "source": []
  },
  {
   "cell_type": "markdown",
   "id": "708cec4f",
   "metadata": {},
   "source": [
    "Oops! What happened?! To answer that, compare the _credits_ variable in the second _%whos_ to the one displayed above it.\n",
    "\n",
    "__Important:__ the __input()__ function always returns a __string__ value. So if we want to get an __int__ or a __float__ value from the keyboard, we need to \"typecast\" it with a function similar to how we typecasted _str(credits)_ above. \n",
    "\n",
    "In the previous cell, we got an error because we tried to add a number to a string. But we can simply modify our __input()__ by wrapping it in an __int()__ (or a __float()__) to return the correct type of value. In this case, change the input statement to the following:\n",
    "\n",
    "```python\n",
    "credits = int(input(\"Input the credits: \"))\n",
    "```\n",
    "Then do another _%whos_ to show the variables. After we have typecasted the string to an int, we can re-run the cell to add 5 to credits.\n",
    "\n",
    "Why don't you experiment with typecasting as a __float__ instead of an int, adding some decimal values and look at the type with either _%whos_ or a __type()__ function."
   ]
  },
  {
   "cell_type": "markdown",
   "id": "d5e31298",
   "metadata": {},
   "source": [
    "# Decision-making in Python\n",
    "\n",
    "We can have Python make decisions based on values in our variables meeting certain conditions. To do this, we can use an __if():__ statement. First, let's experiment with some __comparison operators__. What are comparison operators? Let's check out the following table:\n",
    "\n",
    "| Operator | For example | What it means if True |\n",
    "| --- | --- | --- |\n",
    "| > | x > y | x is greater than y |\n",
    "| < | x < y | x is less than y |\n",
    "| >= | x >= y | x is greater than or equal to y |\n",
    "| <= | x <= y | x is less than or equal to y |\n",
    "| == | x == y | x is equal to y |\n",
    "| != | x != y | x is not equal to y |\n",
    "\n",
    "You'll notice that the _is not equal_ operator is two equal signs (= =). This is important! One equal sign is an _assignment_ operator. In other words, you use a single equal sign to assign a value to a variable. You use _two_ equal signs to ask Python if two values are equal.\n",
    "\n",
    "So let's experiment with a few things in the cell below. Run each of the following individually:\n",
    "\n",
    "```python\n",
    "10 == 10\n",
    "10 != 10\n",
    "10 != 9\n",
    "10 < 10\n",
    "10 <= 10\n",
    "11 >= 10\n",
    "True == 1\n",
    "True > 1\n",
    "False == 1\n",
    "False == 0\n",
    "```\n"
   ]
  },
  {
   "cell_type": "code",
   "execution_count": null,
   "id": "005bf4ea",
   "metadata": {},
   "outputs": [],
   "source": []
  },
  {
   "cell_type": "markdown",
   "id": "c415b466",
   "metadata": {},
   "source": [
    "One important observation: _True_ has the value of 1 and _False_ has the value of 0. So, in theory, you could do comparisons for 1 and 0 instead of _True_ and _False_. However, the latter is more correct.\n",
    "\n",
    "We can also use _and_ and _or_ to specify multiple conditions that must be true. For instance, try these:\n",
    "```python\n",
    "(False == 1) or (True == 1)\n",
    "(False == 1) and (True == 1)\n",
    "(10 == 10) or (10 < 10)\n",
    "```\n"
   ]
  },
  {
   "cell_type": "code",
   "execution_count": null,
   "id": "a0e26733",
   "metadata": {},
   "outputs": [],
   "source": []
  },
  {
   "cell_type": "markdown",
   "id": "2193bffe",
   "metadata": {},
   "source": [
    "# The if: statement\n",
    "If you are comparing two conditions, you do not implicitly need parentheses but parentheses are strongly recommended so that you (the coder) can keep track of the conditions you are testing.\n",
    "\n",
    "How about if we want to make a decision based on a logic condition?\n",
    "\n",
    "The __if__ statement executes blocks of Python code depending on the truth of a statement being evaluated (like you tested above). Let's write a snippet of code that accepts two variables input from the keyboard. Then it evaluates them and tells us if the first variable is less than the second or not. Put the following into a code block:\n",
    "\n",
    "```python\n",
    "var1 = input(\"Enter variable 1: \")\n",
    "var2 = input(\"Enter variable 2: \")\n",
    "if var1 < var2:\n",
    "    print(f\"Value {var1} is less than {var2}\")\n",
    "else:\n",
    "    print(f\"Value {var1} IS NOT less than {var2}\")\n",
    "```\n",
    "Go ahead and test the code block with different values, then we'll talk about a few things. Try both strings and numerics."
   ]
  },
  {
   "cell_type": "code",
   "execution_count": null,
   "id": "603c8d89",
   "metadata": {},
   "outputs": [],
   "source": []
  },
  {
   "cell_type": "markdown",
   "id": "130ceb8a",
   "metadata": {},
   "source": [
    "So there are a couple of things we need to be aware of. First, you'll notice that the _print()_ statements are __indented__. Indentation is how we tell Python that there is a block of code to be executed together. Technically, according to PEP 8, your __indentations__ should be __four spaces__. Many editors, Jupyter included, will automatically assume that a TAB key is 4 spaces--but this **is not always the case** with all editors.\n",
    "\n",
    "The other thing we'll notice is that we included an __else:__ statement with our __if:__ statement. The indented code following the __if:__ statement is executed if the statement is True. The __else:__ statement gets executed if the statement is false. We can also specify other conditions using an __elif:__ statement. For instance, let's modify our code as follows:\n",
    "```python\n",
    "var1 = input(\"Enter variable 1: \")\n",
    "var2 = input(\"Enter variable 2: \")\n",
    "if var1 < var2:\n",
    "    print(f\"Value {var1} is less than {var2}\")\n",
    "elif var1 > var2:\n",
    "    print(f\"Value {var1} is greater than {var2}\")\n",
    "else:\n",
    "    print(f\"Value {var1} is equal to {var2}\")\n",
    "```"
   ]
  },
  {
   "cell_type": "code",
   "execution_count": null,
   "id": "0b73028b",
   "metadata": {},
   "outputs": [],
   "source": []
  },
  {
   "cell_type": "markdown",
   "id": "a78ad1b0-c773-42de-92f1-051c0560c373",
   "metadata": {},
   "source": [
    "An important thing to know about statements such as the __if:__ statement is that the complete statement __MUST__ be contained in a single cell. For instance, you can't execute the top portion of the __if__ statement in one cell and the __else:__ portion in a cell below the first. It all needs to be in one cell together. We will reiterate this as we get into more complicated control structures.\n",
    "\n",
    "Another imoprtant thing about code blocks is that, if there is more than one statement to execute, then **ALL** statements in the code block must have the same indentation.  For instance, try the following:\n",
    "\n",
    "```python\n",
    "var1 = input(\"Enter variable 1: \")\n",
    "var2 = input(\"Enter variable 2: \")\n",
    "if var1 < var2:\n",
    "    print(f\"Value {var1} is less than {var2}\")\n",
    "    print(f\"This means that the top section of the code block is executed\")\n",
    "elif var1 > var2:\n",
    "    print(f\"Value {var1} is greater than {var2}\")\n",
    "    print(f\"This means that the elif section of the code block is executed\")\n",
    "else:\n",
    "    print(f\"Value {var1} is equal to {var2}\")\n",
    "    print(f\"This means that the else section of the code block is executed\")\n",
    "```"
   ]
  },
  {
   "cell_type": "code",
   "execution_count": null,
   "id": "838bdfff-978a-4f54-b063-4a836016e379",
   "metadata": {},
   "outputs": [],
   "source": []
  },
  {
   "cell_type": "markdown",
   "id": "1256eeb4-23ed-48f3-969b-0a9c6710e420",
   "metadata": {},
   "source": [
    "Now let's make a subtle change to the block of code we just executed and see what happens:\n",
    "\n",
    "```python\n",
    "var1 = input(\"Enter variable 1: \")\n",
    "var2 = input(\"Enter variable 2: \")\n",
    "if var1 < var2:\n",
    "    print(f\"Value {var1} is less than {var2}\")\n",
    "     print(f\"This means that the top section of the code block is executed\")\n",
    "elif var1 > var2:\n",
    "    print(f\"Value {var1} is greater than {var2}\")\n",
    "     print(f\"This means that the elif section of the code block is executed\")\n",
    "else:\n",
    "    print(f\"Value {var1} is equal to {var2}\")\n",
    "     print(f\"This means that the else section of the code block is executed\")\n",
    "```"
   ]
  },
  {
   "cell_type": "code",
   "execution_count": null,
   "id": "8c552f5a-4b39-4bdd-84ba-118f3d8b7a54",
   "metadata": {},
   "outputs": [],
   "source": []
  },
  {
   "cell_type": "markdown",
   "id": "fafe623c",
   "metadata": {},
   "source": [
    "A primary reason that Python enjoys broad use is because of the built-in functions and _modules_ (we'll talk more about modules in an upcoming notebook). For instance, above, we wrote a control structure to evaluate two variables. There are numerous functions that can return descriptive statistics. Just like in Excel, there are functions such as __min()__ and __max()__. Enter the following code in the cell below. Then experiment by changing and adding values to the lists to see how these work.\n",
    "```python\n",
    "print(\"Minimum:\", min(12, 48, 36, 24))\n",
    "print(\"Maximum:\", max(12, 48, 36, 24))\n",
    "```"
   ]
  },
  {
   "cell_type": "code",
   "execution_count": null,
   "id": "26fd9bc3",
   "metadata": {},
   "outputs": [],
   "source": []
  },
  {
   "cell_type": "markdown",
   "id": "73fbdbf2",
   "metadata": {},
   "source": [
    "An important thing to know about statements such as the __if:__ statement is that the complete statement __MUST__ be contained in a single cell. For instance, you can't execute the top portion of the __if__ statement in one cell and the __else:__ portion in a cell below the first. It all needs to be in one cell together. We will reiterate this as we get into more complicated control structures.\n",
    "\n",
    "# Exercise\n",
    "\n",
    "Create a code cell below. We need to write a quick program to accept __miles_driven__ and __gas_consumed__ using an __input()__ statement. Then our program needs to do the following:\n",
    "\n",
    "- Calculate the MPG and place it in a variable called __my_mpg__\n",
    "- Print __my_mpg__\n",
    "- If the MPG is less than 10 MPG, your program should print \"GAS GUZZLER!\"\n",
    "- If the MPG is between 10 MPG and 20 MPG, print \"How Seventies!\"\n",
    "- If the MPG is greater than 40 MPG, print \"How gassicly responsible you are!\"\n",
    "- Otherwise print \"You could do better.\""
   ]
  },
  {
   "cell_type": "code",
   "execution_count": null,
   "id": "a4f70ef8",
   "metadata": {},
   "outputs": [],
   "source": []
  }
 ],
 "metadata": {
  "kernelspec": {
   "display_name": "Python 3 (ipykernel)",
   "language": "python",
   "name": "python3"
  },
  "language_info": {
   "codemirror_mode": {
    "name": "ipython",
    "version": 3
   },
   "file_extension": ".py",
   "mimetype": "text/x-python",
   "name": "python",
   "nbconvert_exporter": "python",
   "pygments_lexer": "ipython3",
   "version": "3.12.4"
  }
 },
 "nbformat": 4,
 "nbformat_minor": 5
}
