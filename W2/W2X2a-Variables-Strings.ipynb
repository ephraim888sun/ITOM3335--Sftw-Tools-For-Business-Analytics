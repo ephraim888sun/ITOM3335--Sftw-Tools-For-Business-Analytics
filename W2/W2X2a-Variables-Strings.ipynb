{
 "cells": [
  {
   "cell_type": "markdown",
   "id": "04eb03cb",
   "metadata": {},
   "source": [
    "# Inserting and Running Cells\n",
    "\n",
    "To pick up from last session, when you start navigating around a notebook, you'll notice that the cell borders (this is a \"Markdown\" cell by the way) are either <span style=\"color:green\">green (\"edit\")</span> or <span style=\"color:blue\">blue (\"command\")</span>.\n",
    "\n",
    "To create a new cell, we can click in the column to the left of this and make sure that <span style=\"color:blue\">blue (\"command mode\")</span> is selected. At that point we can hit the __\"a\"__ key on the keyboard to add a cell _above this one_ or the __\"b\"__ key on the keyboard to add a cell _below_ this one.\n",
    "\n",
    "So let's try that out! Click in the column to the left and try the __\"a\"__ key and the __\"b\"__ key.\n",
    "\n",
    "Once you have a cell created, if you go back into <span style=\"color:blue\">blue (\"command mode\")</span>, you can hit the __\"m\"__ key to turn it into a _Markdown_ cell or the __\"y\"__ key to turn it into a _Code_ cell. You can also select _Code_ or _Markdown_ from the dropdown just above this (we'll talk about the other options later).\n",
    "\n",
    "In order to create _Python_ code, we have to run those in a _Code_ cell. Anyway, it is important that you know how this all works."
   ]
  },
  {
   "cell_type": "markdown",
   "id": "75342255",
   "metadata": {},
   "source": [
    "# Variables and Assignment\n",
    "Each cell in a Jupyter Notebook contains a \"snippet\" of code. Once you run the cell, any variables (we'll get to this in a minute) assigned or changed, become part of your program. As we move forward, you will find the same thing holds true for functions, methods, imported modules etc. Each time you make a change, by running a cell, that effects of that change are available when you run future cells.\n",
    "\n",
    "In the first notebook, we experimented with running cells containing numbers. What if we want to capture data and have it available to use with pieces of Python code we want to run in other cells? This is where we introduce the concept of _variables_. \n",
    "\n",
    "In Python, a variable is a name or label that is used to store data or values. It acts as a placeholder for the data that can be changed or updated during the execution of a program. Variables are created and assigned values using the assignment operator (=).\n",
    "\n",
    "For example, the following code snippet demonstrates the declaration and initialization of a variable named \"x\" with the value of 10:\n",
    "\n",
    "```python\n",
    "x = 10\n",
    "```\n",
    "\n",
    "In this case, \"x\" is the variable name, and 10 is the value assigned to it. After the assignment, \"x\" can be used throughout the program to refer to the value 10.\n",
    "\n",
    "Variables in Python are dynamically typed, meaning that they can hold values of different types. The type of a variable is determined based on the value assigned to it. For instance, a variable can hold an integer, a floating-point number, a string, or even more complex data structures like lists, dictionaries, or objects.\n",
    "\n",
    "You can also perform operations and calculations with variables, modify their values, and use them in expressions. Python allows variables to be reassigned with new values, so you can easily update the content of a variable throughout the program as needed.\n",
    "\n",
    "Overall, variables are a fundamental concept in Python and are essential for storing and manipulating data within a program.\n",
    "\n",
    "In the following code cell, enter the following three lines of code then run the cell (do you remember how to run a cell using the _Run_ button (above) or __SHIFT-Enter__)??.\n",
    "\n",
    "```python\n",
    "x = 10\n",
    "y = 5\n",
    "x + y\n",
    "```"
   ]
  },
  {
   "cell_type": "code",
   "execution_count": null,
   "id": "39f602cb",
   "metadata": {},
   "outputs": [],
   "source": []
  },
  {
   "cell_type": "markdown",
   "id": "434fe0dd",
   "metadata": {},
   "source": [
    "Change the values of __x__ and __y__ and re-run the cell to see what happens. There are many rules for many things in Python. Here are the rules for naming variables in Python:\n",
    "\n",
    "- A variable must start with a letter (a-z, A-Z) or an underscore (_)\n",
    "- Variables don't have to be simply \"x\" or \"y\" they can be \"thisVariable\" or \"ThatThing\"\n",
    "- A variable may not start with a number or other special characters\n",
    "- Variable names are __case sensitive__ which means \"X\" and \"x\" are two different variables\n",
    "- Variables should be descriptive and meaningful like \"yourName\" or \"MyAge\"\n",
    "- Variables cannot be reserved words in Python such as \"print\", \"if\", \"while\", etc.\n",
    "\n",
    "Many programmers like to use camelCase for variables arguing that it makes variables easier to read. Variables can hold different types of information. Three common types of variables you will encounter are **int**egers, **float**ing point and **str**ings.\n",
    "\n",
    "Let's try creating a \"string\" type variable. In the following cell, enter the following:\n",
    "\n",
    "```python\n",
    "x = 'your name in single-quotes'\n",
    "x\n",
    "```"
   ]
  },
  {
   "cell_type": "code",
   "execution_count": null,
   "id": "f954efd8",
   "metadata": {},
   "outputs": [],
   "source": []
  },
  {
   "cell_type": "markdown",
   "id": "2d855e63",
   "metadata": {},
   "source": [
    "So that assigned our name to the variable x and then on the second line, 'x' by itself displayed the value when we ran it. What would happen if we ran _x + y_ again (like we did in the cell above)? Why do you suppose that happened?\n",
    "\n",
    "Remember those _magics_ we did in the first notebook? Let's try running \"_%whos_\" in the next cell and see if we can get a little more information about the variables in use."
   ]
  },
  {
   "cell_type": "code",
   "execution_count": null,
   "id": "2f671df7",
   "metadata": {},
   "outputs": [],
   "source": []
  },
  {
   "cell_type": "markdown",
   "id": "b7b0ca31",
   "metadata": {},
   "source": [
    "The _%whos_ magic lists out variables along with the type and content. If we don't want the type and content, we can just use the _%who_ magic to simply show us the variables that are in use. We'll notice, however, that we have a couple of types of variables. The _x_ variable we put our name into has a type of _str_ (string) while the _y_ variable has a type of _int_ (integer). When the _x_ variable was equal to 10 and the _y_ variable was equal to 5, we could add the two together.\n",
    "\n",
    "We've seen _string_ and _integer_ variables. We haven't done a lot with them yet but there's a third common type of variable: a _float_. Let's create the variable _z_ and assign _3.14_ to it. After you have created it, go ahead and do another _%whos_ magic and display it."
   ]
  },
  {
   "cell_type": "code",
   "execution_count": null,
   "id": "2d3cfbdb",
   "metadata": {},
   "outputs": [],
   "source": []
  },
  {
   "cell_type": "markdown",
   "id": "f8a15e3c",
   "metadata": {},
   "source": [
    "You should now have three variables: _x_, _y_, and z. Which ones can you add together and which ones give you an error?"
   ]
  },
  {
   "cell_type": "code",
   "execution_count": null,
   "id": "23f726d6",
   "metadata": {},
   "outputs": [],
   "source": []
  },
  {
   "cell_type": "markdown",
   "id": "518a2da4",
   "metadata": {},
   "source": [
    "We have yet to get into __functions__ and __methods__ but we're going to get introduced to a function __type()__. The _type()_ function returns the kind of data being held in a variable. So in the cell below, start with running __type(x)__ then change _x_ to _y_ and _z_ paying close attention to what is displayed.\n",
    "\n",
    "Then do a __type(y + z)__ and see what that returns. Why do you think you got that type of data back? You'll notice that if _y_ is an _int_ and _z_ is a _float_ that Python automatically casts the type() of the result to a _float_"
   ]
  },
  {
   "cell_type": "code",
   "execution_count": null,
   "id": "f8d20dc5",
   "metadata": {},
   "outputs": [],
   "source": []
  },
  {
   "cell_type": "markdown",
   "id": "384594e6",
   "metadata": {},
   "source": [
    "Next, let's assign another string to the variable _w_. Enter the following code in the cell below:\n",
    "\n",
    "```python\n",
    "w = 'hello'\n",
    "w\n",
    "```\n",
    "\n",
    "Then change the bottom line to _w + x_ and see what happens."
   ]
  },
  {
   "cell_type": "code",
   "execution_count": null,
   "id": "7c4304ea",
   "metadata": {},
   "outputs": [],
   "source": []
  },
  {
   "cell_type": "markdown",
   "id": "4ff6b621",
   "metadata": {},
   "source": [
    "Unlike _ints_ and _floats_, when we use the + operator on a string, we _concatenate_ the strings together. We'll play around a bit more with strings a little later.\n",
    "\n",
    "One thing we haven't played around with his case sensitivity. Try changing the case of _w_ to _W_ (upper case) and run the cell. What happens? How about if you assign another string to the capitalized _W_? So it is important to remember that if you use all lowercase, or camelCase, or TitleCase, that each variable will be unique according to its case.\n",
    "\n",
    "### Another important note\n",
    "\n",
    "Once you have run a cell that defines or alters a variable, that variable \"persists\" until you close the notebook. When you re-open it, you will need to re-run those cells that defined your variables before you can use them again. We will talk more about this as we move forward."
   ]
  },
  {
   "cell_type": "markdown",
   "id": "7efa63e0",
   "metadata": {},
   "source": [
    "# Arithmetic\n",
    "We've played around with addition and concatenation. Python has many different, arithmetic operators. Some of them look familiar to you from your Excel days. Here's a quick table:\n",
    "\n",
    "| Operation | Operator | Example |\n",
    "| --- | --- | --- |\n",
    "| Addition | + | x + y |\n",
    "| Subtraction | - | x - y |\n",
    "| Multiplication | * | x * y |\n",
    "| True Division | / | x / y |\n",
    "| Floor Division | // | x // y |\n",
    "| Exponentiation | ** | x ** y |\n",
    "| Remainder (modulo) | % | x % y|\n"
   ]
  },
  {
   "cell_type": "markdown",
   "id": "01d6271e",
   "metadata": {},
   "source": [
    "Let's start with multiplaction. Go ahead and enter the following in a code cell and run it. Then wrap it in a __type()__ function to see what type it is.\n",
    "\n",
    "```python\n",
    "3 * 7\n",
    "```"
   ]
  },
  {
   "cell_type": "code",
   "execution_count": null,
   "id": "31b8ebe1",
   "metadata": {},
   "outputs": [],
   "source": []
  },
  {
   "cell_type": "markdown",
   "id": "71603191",
   "metadata": {},
   "source": [
    "Next, let's test subtraction. Enter the following in a cell and run it. After you run it, wrap it in a __type()__ function to see what type it is.\n",
    "```python\n",
    "7.5 - 2.25\n",
    "```"
   ]
  },
  {
   "cell_type": "code",
   "execution_count": null,
   "id": "a901c33a",
   "metadata": {},
   "outputs": [],
   "source": []
  },
  {
   "cell_type": "markdown",
   "id": "17de406b",
   "metadata": {},
   "source": [
    "Next let's do 2 to the power of 3. In Excel, this would be _2^3_ but in Python, we do this:\n",
    "```python\n",
    "2 ** 3\n",
    "```"
   ]
  },
  {
   "cell_type": "code",
   "execution_count": null,
   "id": "dcf28073",
   "metadata": {},
   "outputs": [],
   "source": []
  },
  {
   "cell_type": "markdown",
   "id": "32e12b97",
   "metadata": {},
   "source": [
    "Next, let's explore the difference between _True Division_ and _Floor Division_. To get started, enter the following and run it. Then wrap it in a __type()__ function.\n",
    "```python\n",
    "17 / 5\n",
    "```\n",
    "After you do that, change the / to // as follows. Run the cell then __type()__ it.\n",
    "```python\n",
    "17 // 5\n",
    "```"
   ]
  },
  {
   "cell_type": "code",
   "execution_count": null,
   "id": "7b9548c7",
   "metadata": {},
   "outputs": [],
   "source": []
  },
  {
   "cell_type": "markdown",
   "id": "377bd5ba",
   "metadata": {},
   "source": [
    "Do you notice the difference? _True Division_ will give you a float while _Floor Division_ will return the highest __integer__ value that __is not greater than__ the result.\n",
    "\n",
    "But wait, let's try the following. Run the first equation and notice the output.\n",
    "```python\n",
    "-17 / 5\n",
    "```\n",
    "Next, let's try _Floor Division_ on the same equation.\n",
    "```python\n",
    "-17 // 5\n",
    "```"
   ]
  },
  {
   "cell_type": "code",
   "execution_count": null,
   "id": "c1f189b6",
   "metadata": {},
   "outputs": [],
   "source": []
  },
  {
   "cell_type": "markdown",
   "id": "61564d36",
   "metadata": {},
   "source": [
    "Did you notice the difference in the integer value returned with _Floor Division_?\n",
    "\n",
    "Next, let's test the _remainder_ or _modulo_ operator. This allows us to do division and capture the remainder. Normally, we use this to get the remainder when we divide two __int__ numbers but it can be used with other numeric types. \n",
    "\n",
    "Enter the following in a cell and run it:\n",
    "```python\n",
    "15 % 4\n",
    "```\n",
    "Then try:\n",
    "```python\n",
    "15 % 5\n",
    "```\n",
    "Did you notice that if a number is evenly divisible, the _modulo_ is _0_? This makes the modulo function useful for deciding if a number is odd or even or is a multiple of another number.\n",
    "\n",
    "Again, most of the time, the _modulo_ function is used with __ints__. There is nothing, however, carving that in stone. After you do that, run the following:\n",
    "```python\n",
    "7.5 % 3.5\n",
    "```\n",
    "Then do:\n",
    "```python\n",
    "7.5 % 3\n",
    "```\n",
    "Now do you understand what the _modulo_ function does?"
   ]
  },
  {
   "cell_type": "code",
   "execution_count": null,
   "id": "410afd69",
   "metadata": {},
   "outputs": [],
   "source": []
  },
  {
   "cell_type": "markdown",
   "id": "02fad00b",
   "metadata": {},
   "source": [
    "Next, let's see what an error looks like. Enter the following in a cell and run it:\n",
    "```python\n",
    "42 / 0\n",
    "```"
   ]
  },
  {
   "cell_type": "code",
   "execution_count": null,
   "id": "1b54312e",
   "metadata": {},
   "outputs": [],
   "source": []
  },
  {
   "cell_type": "markdown",
   "id": "b2f3738a",
   "metadata": {},
   "source": [
    "Since division by -0- is not allowed, this generates something called an __exception__. This is something that the Python interpreter cannot handle. Python reports this error using something called a __traceback__. In this case, Python gives you a _ZeroDivisionErro_ and the \"---->\" points to the line where Python believes the error occured. We will get into errors more in a later notebook.\n",
    "\n",
    "Meanwhile, back to the arithmetic. The _rules of operator precedence_ is the same as in Excel (something about \"...my dear aunt Sally\") and you can use parentheses to control the order. In the following cell, enter the following formula:\n",
    "```python\n",
    "3 * (4 - 5)\n",
    "```\n",
    "Run the cell, then remove the parentheses and see what happens. Again, we won't spend a lot of time on this because we are all certified experts in Excel, right?"
   ]
  },
  {
   "cell_type": "markdown",
   "id": "b7fc998d",
   "metadata": {},
   "source": [
    "# Strings\n",
    "\n",
    "First, let's find a cell and run a _%whos_ to see if we have some strings already defined. It looks like _w_ and _x_ are strings (unless we changed them) in which case we can scroll back up and re-run the cells where we made the assignments."
   ]
  },
  {
   "cell_type": "code",
   "execution_count": null,
   "id": "065077e2",
   "metadata": {},
   "outputs": [],
   "source": []
  },
  {
   "cell_type": "markdown",
   "id": "d37e41a7",
   "metadata": {},
   "source": [
    "We noticed earlier that we could display each of the values by just executing the cell with the variable. We can also _concatenate_ variables and print them out. For instance, assuming we haven't changed values, executing \"w + x\" will print out \"hello[yourname]\" (or whatever strings are in _w_ and _x_ at this point).\n",
    "\n",
    "Sometimes, however, we might want to print out something like \"_hello allen the value of pi is: 3.14_\". To make that easier to do, we can use a __print()__ statement. For instance, enter the following code in the cell below and execute it:\n",
    "```python\n",
    "print(w, x, 'the value of pi is:', z)\n",
    "```"
   ]
  },
  {
   "cell_type": "code",
   "execution_count": null,
   "id": "003fd726",
   "metadata": {},
   "outputs": [],
   "source": []
  },
  {
   "cell_type": "markdown",
   "id": "8359847f",
   "metadata": {},
   "source": [
    "We can see that this printed out each of the variables along with a string that we put in the middle using a comma-separated list. \n",
    "\n",
    "## Quotes and strings\n",
    "\n",
    "You'll notice that when we have been defining strings, we have been using 'single quotes' as opposed to \"double quotes.\" Technically, according to <a href=\"https://pep8.org/\">PEP 8 — the Style Guide for Python Code</a>, string assignments should use 'single quotes.' \"Double quotes,\" however, work fine as well and in some cases mixing and matching will make your job easier. We'll get in to PEP 8 a little more as we go through the course.\n",
    "\n",
    "For example, enter the following code in the cell below and execute it:\n",
    "```python\n",
    "myDilemma = 'I just cannot wrap my head around PEP 8'\n",
    "print(myDilemma)\n",
    "```\n",
    "Next, see if you can change _cannot_ to _can't_ (e.g. 'I just can't wrap my head around PEP 8'). So obviously if we want a single quote (apostrophe) inside a single-quoted string, we will need to have some way of handling it. One way is to put a backslash character in front of the apostrophe. In other words:\n",
    "```python\n",
    "myDilemma = 'I just can\\'t wrap my head around PEP 8'\n",
    "```\n",
    "Go ahead and try it.\n",
    "\n",
    "Another way to do it is to change the single-quotes around the string to double quotes. In other words:\n",
    "```python\n",
    "myDilemma = \"I just can't wrap my head around PEP 8\"\n",
    "```\n",
    "Hey, what if you wanted to make a string that says: _My name is not \"Jack\"_? Do you think you can enclose _double-quotes_ in a 'single-quoted' string? Why don't you try it?"
   ]
  },
  {
   "cell_type": "code",
   "execution_count": null,
   "id": "17f3ef14",
   "metadata": {},
   "outputs": [],
   "source": []
  },
  {
   "cell_type": "markdown",
   "id": "e636f525",
   "metadata": {},
   "source": [
    "## Escape sequences\n",
    "The __print()__ statement (and strings in general) allow us to format our output. For instance, let's suppose we want to insert a \"new line\" character in a string--in other words, break up a string into a couple of lines. We can easily do that with the '_\\n_' new line sequence.\n",
    "\n",
    "For instance, enter the following code into a code cell and run it:\n",
    "```python\n",
    "print(\"I'm Henry VIII I am\\nHenry the VIII I am\\nI am\")\n",
    "```\n",
    "You'll notice that the new line sequence inserts a new line. Here are a few more useful escape sequences you are likely to use moving forward:\n",
    "\n",
    "| Sequence | What it Does |\n",
    "| --- | --- |\n",
    "| \\n | Inserts a new line |\n",
    "| \\\\' | Inserts a single-quote |\n",
    "| \\\\\" | Inserts a double-quote |\n",
    "| \\t | Inserts a horizontal tab |\n",
    "| \\ \\ | Inserts a backslash |\n",
    "\n",
    "You can also do the opposite of a _\\n_ such that you can ignore a line break in a string (or a print() statement) and have it appear as a single line. You can do this by adding a backslash ( \\ ) followed by the enter key to break up a string and have Python treat it as a single line. Try running the following code:\n",
    "```python\n",
    "longString = 'This is an example of what could be a really long\\\n",
    "string split up over two lines and put back together.'\n",
    "print(longString)\n",
    "```\n",
    "\n"
   ]
  },
  {
   "cell_type": "code",
   "execution_count": null,
   "id": "4ed7aa9e",
   "metadata": {},
   "outputs": [],
   "source": []
  },
  {
   "cell_type": "markdown",
   "id": "13bd04a0",
   "metadata": {},
   "source": [
    "## Triple-quoted strings\n",
    "Single-quote, double-quotes, escape sequences, backslashes. Sometimes you may want to just encapsulate a hunk of text without having to worry about the punctuation. Triple-quoting a string is one method that can be used for this purpose. Take a look at the following code:\n",
    "```python\n",
    "tripleString = \"\"\"To his friend, Ned said, rather blue,\n",
    "\"My wife Edith just told me we're through\n",
    "For she says I'm too fat.\"\n",
    "And his friend told him that,\n",
    "\"You can’t have your cake and Edith too.\" \"\"\"\n",
    "print(tripleString)\n",
    "```"
   ]
  },
  {
   "cell_type": "code",
   "execution_count": null,
   "id": "d0bc5df0",
   "metadata": {},
   "outputs": [],
   "source": []
  }
 ],
 "metadata": {
  "kernelspec": {
   "display_name": "Python 3 (ipykernel)",
   "language": "python",
   "name": "python3"
  },
  "language_info": {
   "codemirror_mode": {
    "name": "ipython",
    "version": 3
   },
   "file_extension": ".py",
   "mimetype": "text/x-python",
   "name": "python",
   "nbconvert_exporter": "python",
   "pygments_lexer": "ipython3",
   "version": "3.11.3"
  }
 },
 "nbformat": 4,
 "nbformat_minor": 5
}
